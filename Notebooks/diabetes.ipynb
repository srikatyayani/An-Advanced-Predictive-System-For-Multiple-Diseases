{
 "cells": [
  {
   "cell_type": "code",
   "execution_count": 1,
   "id": "707eee83",
   "metadata": {},
   "outputs": [],
   "source": [
    "import numpy as np \n",
    "import pickle\n",
    "import pandas as pd "
   ]
  },
  {
   "cell_type": "code",
   "execution_count": 3,
   "id": "fd57b2fe",
   "metadata": {},
   "outputs": [],
   "source": [
    "# Load the data set\n",
    "df = pd.read_csv(\"C:/Users/srika/OneDrive/Desktop/venugopalkadamba/FMP/FMP/Data/Diabetes.csv\")"
   ]
  },
  {
   "cell_type": "code",
   "execution_count": 4,
   "id": "9c17e7cd",
   "metadata": {},
   "outputs": [],
   "source": [
    "# remane the DiabetesPredictionFunction as DPF for making our work easier\n",
    "df = df.rename(columns = {'DiabetesPredictionFunction':'DPF'})\n"
   ]
  },
  {
   "cell_type": "code",
   "execution_count": 5,
   "id": "09867aa0",
   "metadata": {},
   "outputs": [],
   "source": [
    "# Replacing the 0 values from ['Glucose','BloodPressure','SkinThickness','Insulin','BMI'] by NaN(Not a number)\n",
    "df_copy = df.copy(deep=True)\n",
    "df_copy[['Glucose','BloodPressure','SkinThickness','Insulin','BMI']] = df_copy[['Glucose','BloodPressure','SkinThickness','Insulin','BMI']].replace(0,np.NaN)"
   ]
  },
  {
   "cell_type": "code",
   "execution_count": 6,
   "id": "6e53f6ff",
   "metadata": {},
   "outputs": [],
   "source": [
    "# Replacing NaN value by mean ,median depending upon distribution\n",
    "df_copy['Glucose'].fillna(df_copy['Glucose'].mean(),inplace=True)\n",
    "df_copy['BloodPressure'].fillna(df_copy['BloodPressure'].mean(),inplace=True)\n",
    "df_copy['SkinThickness'].fillna(df_copy['SkinThickness'].median(),inplace=True)\n",
    "df_copy['Insulin'].fillna(df_copy['Insulin'].median(),inplace=True)\n",
    "df_copy['BMI'].fillna(df_copy['BMI'].median(),inplace=True)"
   ]
  },
  {
   "cell_type": "code",
   "execution_count": 7,
   "id": "4e57bd40",
   "metadata": {},
   "outputs": [
    {
     "name": "stderr",
     "output_type": "stream",
     "text": [
      "C:\\Users\\srika\\anaconda3\\lib\\site-packages\\scipy\\__init__.py:155: UserWarning: A NumPy version >=1.18.5 and <1.25.0 is required for this version of SciPy (detected version 1.26.4\n",
      "  warnings.warn(f\"A NumPy version >={np_minversion} and <{np_maxversion}\"\n"
     ]
    }
   ],
   "source": [
    "# Model Building\n",
    "from sklearn.model_selection import train_test_split\n",
    "X = df.drop(columns='Outcome')\n",
    "y = df['Outcome']\n",
    "X_train, X_test, y_train, y_test = train_test_split(X,y,test_size=0.20,random_state=0)"
   ]
  },
  {
   "cell_type": "code",
   "execution_count": 8,
   "id": "34c8efbc",
   "metadata": {},
   "outputs": [
    {
     "data": {
      "text/plain": [
       "RandomForestClassifier(n_estimators=20)"
      ]
     },
     "execution_count": 8,
     "metadata": {},
     "output_type": "execute_result"
    }
   ],
   "source": [
    "# Create Random Forest Model\n",
    "from sklearn.ensemble import RandomForestClassifier\n",
    "classifier = RandomForestClassifier(n_estimators = 20)\n",
    "classifier.fit(X_train,y_train)"
   ]
  },
  {
   "cell_type": "code",
   "execution_count": 9,
   "id": "0e05f36a",
   "metadata": {},
   "outputs": [
    {
     "name": "stdout",
     "output_type": "stream",
     "text": [
      "Successfull\n"
     ]
    }
   ],
   "source": [
    "# Creating a pickel file for the classifier\n",
    "filename = 'diabetes-prediction-rfc-model.pkl'\n",
    "pickle.dump(classifier,open(filename,'wb'))\n",
    "print(\"Successfull\")"
   ]
  }
 ],
 "metadata": {
  "kernelspec": {
   "display_name": "Python 3 (ipykernel)",
   "language": "python",
   "name": "python3"
  },
  "language_info": {
   "codemirror_mode": {
    "name": "ipython",
    "version": 3
   },
   "file_extension": ".py",
   "mimetype": "text/x-python",
   "name": "python",
   "nbconvert_exporter": "python",
   "pygments_lexer": "ipython3",
   "version": "3.9.13"
  }
 },
 "nbformat": 4,
 "nbformat_minor": 5
}
